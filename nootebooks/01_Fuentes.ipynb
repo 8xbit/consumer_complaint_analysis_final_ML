{
 "cells": [
  {
   "cell_type": "markdown",
   "id": "83f85eee",
   "metadata": {},
   "source": [
    "#\n"
   ]
  }
 ],
 "metadata": {
  "kernelspec": {
   "display_name": "consumer_complaint_analysis_final_ML",
   "language": "python",
   "name": "python3"
  },
  "language_info": {
   "name": "python",
   "version": "3.12.11"
  }
 },
 "nbformat": 4,
 "nbformat_minor": 5
}
